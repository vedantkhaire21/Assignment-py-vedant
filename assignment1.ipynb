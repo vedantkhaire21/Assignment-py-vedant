{
 "cells": [
  {
   "cell_type": "markdown",
   "id": "78112d84",
   "metadata": {},
   "source": [
    "Check the given number is odd or even"
   ]
  },
  {
   "cell_type": "code",
   "execution_count": 1,
   "id": "649f5b7a",
   "metadata": {},
   "outputs": [
    {
     "name": "stdout",
     "output_type": "stream",
     "text": [
      "The number is Odd.\n"
     ]
    }
   ],
   "source": [
    "def check_odd_even(num):\n",
    "    if num % 2 == 0:\n",
    "        return \"Even\"\n",
    "    else:\n",
    "        return \"Odd\"\n",
    "\n",
    "# Example usage:\n",
    "num = int(input(\"Enter a number: \"))\n",
    "print(f\"The number is {check_odd_even(num)}.\")"
   ]
  },
  {
   "cell_type": "markdown",
   "id": "4ebd1c7e",
   "metadata": {},
   "source": [
    "Count the total number of digits in a number"
   ]
  },
  {
   "cell_type": "code",
   "execution_count": 2,
   "id": "03ac3b00",
   "metadata": {},
   "outputs": [
    {
     "name": "stdout",
     "output_type": "stream",
     "text": [
      "Total digits: 1\n"
     ]
    }
   ],
   "source": [
    "def count_digits(num):\n",
    "    return len(str(abs(num)))\n",
    "\n",
    "# Example usage:\n",
    "num = int(input(\"Enter a number: \"))\n",
    "print(f\"Total digits: {count_digits(num)}\")"
   ]
  },
  {
   "cell_type": "markdown",
   "id": "57f00d2f",
   "metadata": {},
   "source": [
    "Write a Python program to print the reverse number pattern using a for loop\n",
    "\n",
    "5 4 3 2 1\n",
    "\n",
    "4 3 2 1\n",
    "\n",
    "3 2 1\n",
    "\n",
    "2 1\n",
    "\n",
    "1\n"
   ]
  },
  {
   "cell_type": "code",
   "execution_count": 3,
   "id": "2fb3d0a1",
   "metadata": {},
   "outputs": [
    {
     "name": "stdout",
     "output_type": "stream",
     "text": [
      "3 2 1 \n",
      "2 1 \n",
      "1 \n"
     ]
    }
   ],
   "source": [
    "def reverse_pattern(n):\n",
    "    for i in range(n, 0, -1):\n",
    "        for j in range(i, 0, -1):\n",
    "            print(j, end=' ')\n",
    "        print()\n",
    "\n",
    "# Example usage:\n",
    "n = int(input(\"Enter a number for pattern: \"))\n",
    "reverse_pattern(n)"
   ]
  },
  {
   "cell_type": "markdown",
   "id": "3461ecb8",
   "metadata": {},
   "source": [
    "Print all prime numbers within a range"
   ]
  },
  {
   "cell_type": "code",
   "execution_count": 5,
   "id": "95c1acb2",
   "metadata": {},
   "outputs": [
    {
     "name": "stdout",
     "output_type": "stream",
     "text": [
      "2\n",
      "3\n",
      "5\n"
     ]
    }
   ],
   "source": [
    "def print_primes(start, end):\n",
    "    for num in range(start, end + 1):\n",
    "        if num > 1:\n",
    "            for i in range(2, int(num ** 0.5) + 1):\n",
    "                if num % i == 0:\n",
    "                    break\n",
    "            else:\n",
    "                print(num)\n",
    "\n",
    "# Example usage:\n",
    "start = int(input(\"Enter start of range: \"))\n",
    "end = int(input(\"Enter end of range: \"))\n",
    "print_primes(start, end)"
   ]
  },
  {
   "cell_type": "markdown",
   "id": "b3aeecef",
   "metadata": {},
   "source": [
    "Find the factorial of a given number"
   ]
  },
  {
   "cell_type": "code",
   "execution_count": 12,
   "id": "d4bd052c",
   "metadata": {},
   "outputs": [
    {
     "name": "stdout",
     "output_type": "stream",
     "text": [
      "Factorial: 2\n"
     ]
    }
   ],
   "source": [
    "def factorial(num):\n",
    "    if num == 0:\n",
    "        return 1\n",
    "    else:\n",
    "        return num * factorial(num - 1)\n",
    "\n",
    "# Example usage:\n",
    "num = int(input(\"Enter a number: \"))\n",
    "print(f\"Factorial: {factorial(num)}\")"
   ]
  },
  {
   "cell_type": "markdown",
   "id": "810394f1",
   "metadata": {},
   "source": [
    "Program to check if number is palindrome"
   ]
  },
  {
   "cell_type": "code",
   "execution_count": 13,
   "id": "50b62f61",
   "metadata": {},
   "outputs": [
    {
     "name": "stdout",
     "output_type": "stream",
     "text": [
      "Is palindrome: True\n"
     ]
    }
   ],
   "source": [
    "def is_palindrome(num):\n",
    "    return str(num) == str(num)[::-1]\n",
    "\n",
    "# Example usage:\n",
    "num = int(input(\"Enter a number: \"))\n",
    "print(f\"Is palindrome: {is_palindrome(num)}\")"
   ]
  },
  {
   "cell_type": "code",
   "execution_count": null,
   "id": "576abacd",
   "metadata": {},
   "outputs": [
    {
     "name": "stdout",
     "output_type": "stream",
     "text": [
      "Is Armstrong: True\n"
     ]
    }
   ],
   "source": [
    "def is_armstrong(num):\n",
    "    sum = 0\n",
    "    temp = num\n",
    "    digits = len(str(num))\n",
    "    while num > 0:\n",
    "        digit = num % 10\n",
    "        sum += digit ** digits\n",
    "        num //= 10\n",
    "    return temp == sum\n",
    "\n",
    "# Example usage:\n",
    "num = int(input(\"Enter a number: \"))\n",
    "print(f\"Is Armstrong: {is_armstrong(num)}\")"
   ]
  },
  {
   "cell_type": "code",
   "execution_count": 18,
   "id": "48275956",
   "metadata": {},
   "outputs": [
    {
     "name": "stdout",
     "output_type": "stream",
     "text": [
      "Maximum: 3\n"
     ]
    }
   ],
   "source": [
    "def max_of_three(a, b, c):\n",
    "    return max(a, b, c)\n",
    "\n",
    "# Example usage:\n",
    "a = int(input(\"Enter first number: \"))\n",
    "b = int(input(\"Enter second number: \"))\n",
    "c = int(input(\"Enter third number: \"))\n",
    "print(f\"Maximum: {max_of_three(a, b, c)}\")"
   ]
  },
  {
   "cell_type": "code",
   "execution_count": 19,
   "id": "b055f901",
   "metadata": {},
   "outputs": [
    {
     "name": "stdout",
     "output_type": "stream",
     "text": [
      "Sum of digits: 1\n"
     ]
    }
   ],
   "source": [
    "def sum_of_digits(num):\n",
    "    return sum(int(digit) for digit in str(num))\n",
    "\n",
    "# Example usage:\n",
    "num = int(input(\"Enter a number: \"))\n",
    "print(f\"Sum of digits: {sum_of_digits(num)}\")"
   ]
  },
  {
   "cell_type": "code",
   "execution_count": 27,
   "id": "e623a52b",
   "metadata": {},
   "outputs": [
    {
     "name": "stdout",
     "output_type": "stream",
     "text": [
      "1 = 1\n",
      "1 + 2 = 3\n",
      "1 + 2 + 3 = 6\n",
      "1 + 2 + 3 + 4 = 10\n"
     ]
    }
   ],
   "source": [
    "# Input: natural number n\n",
    "n = int(input(\"Enter a natural number: \"))\n",
    "\n",
    "# Loop through 1 to n\n",
    "for i in range(1, n + 1):\n",
    "    # Create the list of numbers from 1 to i\n",
    "    numbers = list(range(1, i + 1))\n",
    "    \n",
    "    # Calculate the sum of the numbers\n",
    "    total = sum(numbers)\n",
    "    \n",
    "    # Convert numbers to strings and join with ' + '\n",
    "    expression = ' + '.join(str(num) for num in numbers)\n",
    "    \n",
    "    # Print the expression with the sum\n",
    "    print(f\"{expression} = {total}\")\n"
   ]
  }
 ],
 "metadata": {
  "kernelspec": {
   "display_name": "Python 3",
   "language": "python",
   "name": "python3"
  },
  "language_info": {
   "codemirror_mode": {
    "name": "ipython",
    "version": 3
   },
   "file_extension": ".py",
   "mimetype": "text/x-python",
   "name": "python",
   "nbconvert_exporter": "python",
   "pygments_lexer": "ipython3",
   "version": "3.13.3"
  }
 },
 "nbformat": 4,
 "nbformat_minor": 5
}
