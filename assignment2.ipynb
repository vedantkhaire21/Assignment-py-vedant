{
 "cells": [
  {
   "cell_type": "markdown",
   "id": "ba6ab9a4",
   "metadata": {},
   "source": [
    "##                                             Assignment-2"
   ]
  },
  {
   "cell_type": "code",
   "execution_count": 1,
   "id": "6f9bcdad",
   "metadata": {},
   "outputs": [
    {
     "name": "stdout",
     "output_type": "stream",
     "text": [
      "Name: Alice, Age: 20, Grade: A\n"
     ]
    }
   ],
   "source": [
    "# 1) Store and display student information (name, age, grade).\n",
    "student = (\"Alice\", 20, \"A\")\n",
    "print(f\"Name: {student[0]}, Age: {student[1]}, Grade: {student[2]}\")\n"
   ]
  },
  {
   "cell_type": "code",
   "execution_count": 1,
   "id": "04a50d5d",
   "metadata": {},
   "outputs": [
    {
     "name": "stdout",
     "output_type": "stream",
     "text": [
      "Prices: (10.5, 20.0, 5.75, 3.4)\n",
      "Total: 39.65\n"
     ]
    }
   ],
   "source": [
    "# 2) List prices of grocery items and total them.\n",
    "prices = (10.5, 20.0, 5.75, 3.40)\n",
    "print(\"Prices:\", prices)\n",
    "print(\"Total:\", sum(prices))\n"
   ]
  },
  {
   "cell_type": "code",
   "execution_count": 2,
   "id": "b7983338",
   "metadata": {},
   "outputs": [
    {
     "name": "stdout",
     "output_type": "stream",
     "text": [
      "Milk: ₹25\n",
      "Eggs: ₹50\n",
      "Bread: ₹20\n"
     ]
    }
   ],
   "source": [
    "# 3) Pair items with prices using tuples.\n",
    "items_with_prices = ((\"Milk\", 25), (\"Eggs\", 50), (\"Bread\", 20))\n",
    "for item, price in items_with_prices:\n",
    "    print(f\"{item}: ₹{price}\")\n"
   ]
  },
  {
   "cell_type": "code",
   "execution_count": null,
   "id": "b7966ecc",
   "metadata": {},
   "outputs": [
    {
     "name": "stdout",
     "output_type": "stream",
     "text": [
      "Rajdhani departs at 10:00\n",
      "Shatabdi departs at 12:30\n",
      "Duronto departs at 17:00\n"
     ]
    }
   ],
   "source": [
    "# 4) Store and display train schedule as tuples.\n",
    "schedule = ((\"Rajdhani\", \"10:00\"), (\"Shatabdi\", \"12:30\"), (\"Duronto\", \"17:00\"))\n",
    "for train, time in schedule:\n",
    "    print(f\"{train} departs at {time}\")\n"
   ]
  },
  {
   "cell_type": "code",
   "execution_count": 5,
   "id": "e00de372",
   "metadata": {},
   "outputs": [
    {
     "name": "stdout",
     "output_type": "stream",
     "text": [
      "Sorted by salary:\n",
      "Raj: ₹30000\n",
      "John: ₹40000\n",
      "Alice: ₹55000\n"
     ]
    }
   ],
   "source": [
    "# 5) Sort employee records by salary.\n",
    "employees = ((\"John\", 40000), (\"Alice\", 55000), (\"Raj\", 30000))\n",
    "# sorted returns a list; convert back to tuple if you want\n",
    "sorted_by_salary = tuple(sorted(employees, key=lambda rec: rec[1]))\n",
    "print(\"Sorted by salary:\")\n",
    "for name, salary in sorted_by_salary:\n",
    "    print(f\"{name}: ₹{salary}\")\n"
   ]
  },
  {
   "cell_type": "code",
   "execution_count": 6,
   "id": "4e443b57",
   "metadata": {},
   "outputs": [
    {
     "name": "stdout",
     "output_type": "stream",
     "text": [
      "Number of students scoring above 75: 3\n"
     ]
    }
   ],
   "source": [
    "# 6) Count how many students scored above 75 marks.\n",
    "marks = (67, 88, 92, 74, 76, 55)\n",
    "count_above_75 = sum(1 for m in marks if m > 75)\n",
    "print(f\"Number of students scoring above 75: {count_above_75}\")\n"
   ]
  },
  {
   "cell_type": "code",
   "execution_count": 7,
   "id": "8be4809c",
   "metadata": {},
   "outputs": [
    {
     "name": "stdout",
     "output_type": "stream",
     "text": [
      "Highest stock price: 170.1\n"
     ]
    }
   ],
   "source": [
    "# 7) Create a tuple of stock prices and find the max.\n",
    "stock_prices = (154.5, 160.2, 149.8, 170.1)\n",
    "print(\"Highest stock price:\", max(stock_prices))\n"
   ]
  },
  {
   "cell_type": "code",
   "execution_count": 8,
   "id": "4f910da8",
   "metadata": {},
   "outputs": [
    {
     "name": "stdout",
     "output_type": "stream",
     "text": [
      "Average temperature: 30.42°C\n"
     ]
    }
   ],
   "source": [
    "# 8) Log temperature readings during the day. Find the average temperature.\n",
    "temperatures = (29.5, 30.0, 32.2, 31.5, 28.9)\n",
    "avg_temp = sum(temperatures) / len(temperatures)\n",
    "print(f\"Average temperature: {avg_temp:.2f}°C\")\n"
   ]
  },
  {
   "cell_type": "code",
   "execution_count": 9,
   "id": "1f3ecf1b",
   "metadata": {},
   "outputs": [
    {
     "name": "stdout",
     "output_type": "stream",
     "text": [
      "Doctor at 10:00 AM\n",
      "Meeting at 2:00 PM\n"
     ]
    }
   ],
   "source": [
    "# 9) Schedule appointments (name, time).\n",
    "appointments = ((\"Doctor\", \"10:00 AM\"), (\"Meeting\", \"2:00 PM\"))\n",
    "for desc, t in appointments:\n",
    "    print(f\"{desc} at {t}\")\n"
   ]
  },
  {
   "cell_type": "code",
   "execution_count": 10,
   "id": "0d5a75ec",
   "metadata": {},
   "outputs": [
    {
     "name": "stdout",
     "output_type": "stream",
     "text": [
      "Anil: 9876543210\n",
      "Priya: 9123456780\n"
     ]
    }
   ],
   "source": [
    "# 10) Store contact info (name, phone number).\n",
    "contacts = ((\"Anil\", \"9876543210\"), (\"Priya\", \"9123456780\"))\n",
    "for name, phone in contacts:\n",
    "    print(f\"{name}: {phone}\")\n"
   ]
  },
  {
   "cell_type": "code",
   "execution_count": 11,
   "id": "f95227e6",
   "metadata": {},
   "outputs": [
    {
     "name": "stdout",
     "output_type": "stream",
     "text": [
      "Math exam at 9:00 AM\n",
      "Science exam at 11:30 AM\n",
      "English exam at 2:00 PM\n"
     ]
    }
   ],
   "source": [
    "# 11) Display exam schedule with subject and time.\n",
    "exams = ((\"Math\", \"9:00 AM\"), (\"Science\", \"11:30 AM\"), (\"English\", \"2:00 PM\"))\n",
    "for subject, time in exams:\n",
    "    print(f\"{subject} exam at {time}\")\n"
   ]
  },
  {
   "cell_type": "code",
   "execution_count": null,
   "id": "fd538909",
   "metadata": {},
   "outputs": [],
   "source": []
  }
 ],
 "metadata": {
  "kernelspec": {
   "display_name": "Python 3",
   "language": "python",
   "name": "python3"
  },
  "language_info": {
   "codemirror_mode": {
    "name": "ipython",
    "version": 3
   },
   "file_extension": ".py",
   "mimetype": "text/x-python",
   "name": "python",
   "nbconvert_exporter": "python",
   "pygments_lexer": "ipython3",
   "version": "3.13.3"
  }
 },
 "nbformat": 4,
 "nbformat_minor": 5
}
