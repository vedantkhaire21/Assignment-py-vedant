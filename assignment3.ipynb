{
 "cells": [
  {
   "cell_type": "code",
   "execution_count": 1,
   "id": "21572425-fa58-4ed4-b1bf-34f114e13283",
   "metadata": {},
   "outputs": [
    {
     "name": "stdout",
     "output_type": "stream",
     "text": [
      "Elements of the set are:\n",
      "1\n",
      "2\n",
      "3\n",
      "4\n",
      "5\n"
     ]
    }
   ],
   "source": [
    "# Creating a set\n",
    "my_set = {1, 2, 3, 4, 5}\n",
    "\n",
    "# Displaying the elements of the set\n",
    "print(\"Elements of the set are:\")\n",
    "for element in my_set:\n",
    "    print(element)\n"
   ]
  },
  {
   "cell_type": "code",
   "execution_count": 2,
   "id": "5a093e82-9a90-45d6-ab6e-e4ca88953378",
   "metadata": {},
   "outputs": [
    {
     "name": "stdout",
     "output_type": "stream",
     "text": [
      "Updated set: {1, 2, 3, 4}\n"
     ]
    }
   ],
   "source": [
    "# Creating a set\n",
    "my_set = {1, 2, 3}\n",
    "\n",
    "# Adding an element\n",
    "my_set.add(4)\n",
    "\n",
    "# Displaying the updated set\n",
    "print(\"Updated set:\", my_set)\n"
   ]
  },
  {
   "cell_type": "code",
   "execution_count": 3,
   "id": "b5ad4c57-01d5-4ea5-af5b-a12400c0a07f",
   "metadata": {},
   "outputs": [
    {
     "name": "stdout",
     "output_type": "stream",
     "text": [
      "updated set: {1, 2, 4}\n"
     ]
    }
   ],
   "source": [
    "myset={1,2,3,4}\n",
    "myset.remove(3)\n",
    "print(\"updated set:\",myset)"
   ]
  },
  {
   "cell_type": "code",
   "execution_count": 4,
   "id": "08fa11c5-a38a-46f2-b063-41642521d8af",
   "metadata": {},
   "outputs": [
    {
     "name": "stdout",
     "output_type": "stream",
     "text": [
      "updated set: set()\n"
     ]
    }
   ],
   "source": [
    "myset={1,2,3,4,5}\n",
    "myset.clear()\n",
    "print(\"updated set:\",myset)"
   ]
  },
  {
   "cell_type": "code",
   "execution_count": 7,
   "id": "fb2211a3-b965-4b9b-8121-2ab99309dd27",
   "metadata": {},
   "outputs": [
    {
     "name": "stdout",
     "output_type": "stream",
     "text": [
      "updated set: {1, 2, 3, 4, 6, 7, 8}\n"
     ]
    }
   ],
   "source": [
    "myset={1,2,3,4}\n",
    "abzaa={4,6,7,8}\n",
    "myset.update(abzaa)\n",
    "print(\"updated set:\",myset)\n",
    "## Note that when you add a set in another set using update function,the duplicate value will become a single unit\n"
   ]
  },
  {
   "cell_type": "code",
   "execution_count": 19,
   "id": "09a9a9c0-8ada-479c-ab5d-a460587854ae",
   "metadata": {},
   "outputs": [
    {
     "name": "stdout",
     "output_type": "stream",
     "text": [
      "Apple is in myset\n"
     ]
    }
   ],
   "source": [
    "myset={\"Apple\",2,3,\"banana\"}\n",
    "if \"Apple\" in myset:\n",
    " print(\"Apple is in myset\")\n",
    "else:\n",
    " print(\"Apple isn't in myset\")"
   ]
  },
  {
   "cell_type": "code",
   "execution_count": 23,
   "id": "f640b0db-5ac4-4d21-a2c5-5874e9874940",
   "metadata": {},
   "outputs": [
    {
     "name": "stdout",
     "output_type": "stream",
     "text": [
      "lenght of myset is: 5\n"
     ]
    }
   ],
   "source": [
    "myset={1,2,3,4,5}\n",
    "lenght=len(myset)\n",
    "print(\"lenght of myset is:\",lenght)"
   ]
  },
  {
   "cell_type": "code",
   "execution_count": 31,
   "id": "04cbe029-ac71-4c1d-874f-100ad9036c7c",
   "metadata": {},
   "outputs": [
    {
     "name": "stdout",
     "output_type": "stream",
     "text": [
      "apple\n",
      "cherry\n",
      "banana\n"
     ]
    }
   ],
   "source": [
    "my_set = {\"apple\", \"banana\", \"cherry\",}\n",
    "\n",
    "for x in my_set:\n",
    "    print(x)\n"
   ]
  },
  {
   "cell_type": "code",
   "execution_count": 33,
   "id": "7a2b84a6-bc03-4c9d-baa5-97057d93d3b0",
   "metadata": {},
   "outputs": [
    {
     "name": "stdout",
     "output_type": "stream",
     "text": [
      "Union of set1 and set2: {1, 2, 3, 4, 5}\n"
     ]
    }
   ],
   "source": [
    "set1 = {1, 2, 3}\n",
    "set2 = {3, 4, 5}\n",
    "\n",
    "union_set = set1 | (set2)\n",
    "\n",
    "print(\"Union of set1 and set2:\", union_set)\n"
   ]
  },
  {
   "cell_type": "code",
   "execution_count": 38,
   "id": "8e0ee7ec-408c-4026-a9ed-207e0937a3e6",
   "metadata": {},
   "outputs": [
    {
     "name": "stdout",
     "output_type": "stream",
     "text": [
      "Intersection of set1 and set2: {3, 4}\n"
     ]
    }
   ],
   "source": [
    "set1 = {1, 2, 3, 4}\n",
    "set2 = {3, 4, 5, 6}\n",
    "\n",
    "intersection_set = set1 & (set2)\n",
    "\n",
    "print(\"Intersection of set1 and set2:\", intersection_set)\n",
    "\n"
   ]
  },
  {
   "cell_type": "code",
   "execution_count": 46,
   "id": "09f5d649-b931-4030-a1f3-ba2afba33456",
   "metadata": {},
   "outputs": [
    {
     "name": "stdout",
     "output_type": "stream",
     "text": [
      "difference of set1 and set2: {1, 2}\n"
     ]
    }
   ],
   "source": [
    "set1 = {1, 2, 3, 4}\n",
    "set2 = {3, 4, 5, 6}\n",
    "differenceset = set1 - set2\n",
    "\n",
    "print(\"difference of set1 and set2:\",differenceset)\n"
   ]
  },
  {
   "cell_type": "code",
   "execution_count": 50,
   "id": "89dd9744-ab7e-48b6-9d03-d7296fcc26ca",
   "metadata": {},
   "outputs": [
    {
     "name": "stdout",
     "output_type": "stream",
     "text": [
      "Symmetric difference: {1, 2, 6, 9}\n"
     ]
    }
   ],
   "source": [
    "set1 = {1, 2, 3, 4,7,5}\n",
    "set2 = {9,7,3, 4, 5, 6}\n",
    "\n",
    "sym_diff = set1 ^ (set2)\n",
    "\n",
    "print(\"Symmetric difference:\", sym_diff)\n"
   ]
  },
  {
   "cell_type": "code",
   "execution_count": 58,
   "id": "4e713f8a-ebc4-4505-acd3-f9b80ef0babc",
   "metadata": {},
   "outputs": [
    {
     "name": "stdout",
     "output_type": "stream",
     "text": [
      "\n",
      "Is set1 a subset of set2?\n",
      " True\n"
     ]
    }
   ],
   "source": [
    "set1 = {1, 2}\n",
    "set2 = {1, 2, 3, 4}\n",
    "\n",
    "result = set1<=(set2)\n",
    "print(\"\\nIs set1 a subset of set2?\\n\", result)\n",
    "\n"
   ]
  },
  {
   "cell_type": "code",
   "execution_count": 62,
   "id": "b97dd5db-6e89-443c-9285-b3611c3673c5",
   "metadata": {},
   "outputs": [
    {
     "name": "stdout",
     "output_type": "stream",
     "text": [
      "Is set1 a superset of set2? True\n"
     ]
    }
   ],
   "source": [
    "set1 = {1, 2, 3, 4}\n",
    "set2 = {2, 3,}\n",
    "\n",
    "result = set1>=(set2)\n",
    "print(\"Is set1 a superset of set2?\", result)\n",
    "\n"
   ]
  },
  {
   "cell_type": "code",
   "execution_count": 63,
   "id": "3af64367-530b-4b8d-b7db-4fe386f9cd18",
   "metadata": {},
   "outputs": [
    {
     "name": "stdout",
     "output_type": "stream",
     "text": [
      "Are set1 and set2 disjoint? True\n"
     ]
    }
   ],
   "source": [
    "set1 = {1, 2, 3}\n",
    "set2 = {4, 5, 6}\n",
    "\n",
    "result = set1.isdisjoint(set2)\n",
    "print(\"Are set1 and set2 disjoint?\", result)\n",
    "\n"
   ]
  },
  {
   "cell_type": "code",
   "execution_count": 67,
   "id": "5dc0f1f8-4f2e-4375-81a6-e543d16fd51e",
   "metadata": {},
   "outputs": [
    {
     "name": "stdout",
     "output_type": "stream",
     "text": [
      "List after removing duplicates: {1, 2, 3, 4, 5}\n"
     ]
    }
   ],
   "source": [
    "my_list = [1, 2, 2, 3, 4, 4, 5]\n",
    "\n",
    "# Remove duplicates by converting to a set\n",
    "my_set = set(my_list)\n",
    "\n",
    "\n",
    "\n",
    "print(\"List after removing duplicates:\", my_set)\n"
   ]
  },
  {
   "cell_type": "code",
   "execution_count": 68,
   "id": "765b63a7-16eb-4dbf-9bb7-623f9aa8d477",
   "metadata": {},
   "outputs": [
    {
     "name": "stdout",
     "output_type": "stream",
     "text": [
      "Original list: [1, 2, 2, 3, 4, 4, 5]\n",
      "After converting to set and back to list: [1, 2, 3, 4, 5]\n"
     ]
    }
   ],
   "source": [
    "# Original list\n",
    "my_list = [1, 2, 2, 3, 4, 4, 5]\n",
    "\n",
    "# Convert list to set (removes duplicates)\n",
    "my_set = set(my_list)\n",
    "\n",
    "# Convert set back to list\n",
    "new_list = list(my_set)\n",
    "\n",
    "print(\"Original list:\", my_list)\n",
    "print(\"After converting to set and back to list:\", new_list)\n"
   ]
  },
  {
   "cell_type": "code",
   "execution_count": 69,
   "id": "bf380c17-ffc6-4845-950b-6d7c0b68cb82",
   "metadata": {},
   "outputs": [
    {
     "name": "stdout",
     "output_type": "stream",
     "text": [
      "Common elements: [3, 4]\n"
     ]
    }
   ],
   "source": [
    "list1 = [1, 2, 3, 4]\n",
    "list2 = [3, 4, 5, 6]\n",
    "\n",
    "# Convert lists to sets\n",
    "set1 = set(list1)\n",
    "set2 = set(list2)\n",
    "\n",
    "# Find intersection (common elements)\n",
    "common_elements = set1.intersection(set2)\n",
    "\n",
    "# If you want the result as a list\n",
    "common_list = list(common_elements)\n",
    "\n",
    "print(\"Common elements:\", common_list)\n"
   ]
  },
  {
   "cell_type": "code",
   "execution_count": 70,
   "id": "f7179efa-8ba4-4850-aff8-c14863886bee",
   "metadata": {},
   "outputs": [
    {
     "name": "stdout",
     "output_type": "stream",
     "text": [
      "Squares: {64, 1, 4, 36, 100, 9, 16, 49, 81, 25}\n",
      "Primes: {2, 3, 5, 7, 11, 13, 17, 19}\n"
     ]
    }
   ],
   "source": [
    "## for squares\n",
    "squares = {x**2 for x in range(1, 11)}\n",
    "print(\"Squares:\", squares)\n",
    "## for prime\n",
    "primes = {x for x in range(2, 21) if all(x % i != 0 for i in range(2, x))}\n",
    "print(\"Primes:\", primes)\n"
   ]
  },
  {
   "cell_type": "code",
   "execution_count": 71,
   "id": "14d8de5b-e2ed-49f9-8f52-05395c8b6404",
   "metadata": {},
   "outputs": [
    {
     "name": "stdout",
     "output_type": "stream",
     "text": [
      "Frozenset: frozenset({1, 2, 3, 4, 5})\n"
     ]
    }
   ],
   "source": [
    "# Create a frozenset\n",
    "my_frozenset = frozenset([1, 2, 3, 4, 5])\n",
    "\n",
    "# Print the frozenset\n",
    "print(\"Frozenset:\", my_frozenset)\n"
   ]
  },
  {
   "cell_type": "code",
   "execution_count": null,
   "id": "d7fd079d-e3b9-40fc-afa8-e353ec090922",
   "metadata": {},
   "outputs": [],
   "source": []
  }
 ],
 "metadata": {
  "kernelspec": {
   "display_name": "Python 3 (ipykernel)",
   "language": "python",
   "name": "python3"
  },
  "language_info": {
   "codemirror_mode": {
    "name": "ipython",
    "version": 3
   },
   "file_extension": ".py",
   "mimetype": "text/x-python",
   "name": "python",
   "nbconvert_exporter": "python",
   "pygments_lexer": "ipython3",
   "version": "3.12.7"
  }
 },
 "nbformat": 4,
 "nbformat_minor": 5
}
